{
  "nbformat": 4,
  "nbformat_minor": 0,
  "metadata": {
    "colab": {
      "name": "3 - Array: podstawowe operacje na tablicach.ipynb",
      "provenance": [],
      "authorship_tag": "ABX9TyMLlyOjLki9EfTnif36EEt9",
      "include_colab_link": true
    },
    "kernelspec": {
      "name": "python3",
      "display_name": "Python 3"
    }
  },
  "cells": [
    {
      "cell_type": "markdown",
      "metadata": {
        "id": "view-in-github",
        "colab_type": "text"
      },
      "source": [
        "<a href=\"https://colab.research.google.com/github/BartoszJanJerzy/data-science-bootcamp/blob/master/3_Array_podstawowe_operacje_na_tablicach.ipynb\" target=\"_parent\"><img src=\"https://colab.research.google.com/assets/colab-badge.svg\" alt=\"Open In Colab\"/></a>"
      ]
    },
    {
      "cell_type": "code",
      "metadata": {
        "id": "KZCxuhf7FYne",
        "colab_type": "code",
        "colab": {}
      },
      "source": [
        "import numpy as np"
      ],
      "execution_count": 1,
      "outputs": []
    },
    {
      "cell_type": "code",
      "metadata": {
        "id": "FpQCBXW0Fa6j",
        "colab_type": "code",
        "colab": {}
      },
      "source": [
        "# dwie tablice na których bedą pokazywane operacje\n",
        "a = np.array([3,1,4,2])\n",
        "b = np.array([3,-1,3,2])"
      ],
      "execution_count": 3,
      "outputs": []
    },
    {
      "cell_type": "code",
      "metadata": {
        "id": "B2i8trBhFkEh",
        "colab_type": "code",
        "colab": {
          "base_uri": "https://localhost:8080/",
          "height": 34
        },
        "outputId": "4b21171a-0d08-46a6-da28-ec4562154f9a"
      },
      "source": [
        "# dodwanie tablic: lczba elementów musi być taka sama!\n",
        "print('Array a={}, array b={}, their sum is a+b={}'.format(a,b,a+b))\n",
        "\n",
        "# np.add(a,b)"
      ],
      "execution_count": 7,
      "outputs": [
        {
          "output_type": "stream",
          "text": [
            "Array a=[3 1 4 2], array b=[ 3 -1  3  2], their sum is a+b=[6 0 7 4]\n"
          ],
          "name": "stdout"
        }
      ]
    },
    {
      "cell_type": "code",
      "metadata": {
        "id": "BtnQdd6oFufP",
        "colab_type": "code",
        "colab": {
          "base_uri": "https://localhost:8080/",
          "height": 34
        },
        "outputId": "f6ca5c60-f30c-46a4-e6de-9b7ea29afa7b"
      },
      "source": [
        "# różnica tablic: lczba elementów musi być taka sama!\n",
        "print('Array a={}, array b={}, their difference is a-b={}'.format(a,b,a-b))\n",
        "\n",
        "# np.subtract(a,b)"
      ],
      "execution_count": 8,
      "outputs": [
        {
          "output_type": "stream",
          "text": [
            "Array a=[3 1 4 2], array b=[ 3 -1  3  2], their difference is a-b=[0 2 1 0]\n"
          ],
          "name": "stdout"
        }
      ]
    },
    {
      "cell_type": "code",
      "metadata": {
        "id": "lgW5dW0MGq_S",
        "colab_type": "code",
        "colab": {
          "base_uri": "https://localhost:8080/",
          "height": 34
        },
        "outputId": "8602eb97-c3cf-45c5-b35d-a625ec497f30"
      },
      "source": [
        "# mnożenie tablic: lczba elementów musi być taka sama!\n",
        "print('Array a={}, array b={}, their product is a*b={}'.format(a,b,a*b))\n",
        "\n",
        "# np.multiply(a,b)"
      ],
      "execution_count": 13,
      "outputs": [
        {
          "output_type": "stream",
          "text": [
            "Array a=[3 1 4 2], array b=[ 3 -1  3  2], their product is a*b=[ 9 -1 12  4]\n"
          ],
          "name": "stdout"
        }
      ]
    },
    {
      "cell_type": "code",
      "metadata": {
        "id": "Z_DwQbvuGz8b",
        "colab_type": "code",
        "colab": {
          "base_uri": "https://localhost:8080/",
          "height": 34
        },
        "outputId": "eb2517f1-041c-4db5-bc04-0fcef921946e"
      },
      "source": [
        "# dzielenie tablic: lczba elementów musi być taka sama!\n",
        "# wynik to zawsze float\n",
        "print('Array a={}, array b={}, their quotient is a/b={}'.format(a,b,a/b))\n",
        "\n",
        "# np.divide(a,b)"
      ],
      "execution_count": 14,
      "outputs": [
        {
          "output_type": "stream",
          "text": [
            "Array a=[3 1 4 2], array b=[ 3 -1  3  2], their quotient is a/b=[ 1.         -1.          1.33333333  1.        ]\n"
          ],
          "name": "stdout"
        }
      ]
    },
    {
      "cell_type": "code",
      "metadata": {
        "id": "AJH2J_-vG9j4",
        "colab_type": "code",
        "colab": {
          "base_uri": "https://localhost:8080/",
          "height": 51
        },
        "outputId": "bd611f36-c2d2-4cda-ca90-e2647be269e8"
      },
      "source": [
        "# przykałdowe oepracje na pojedynczych tablicach\n",
        "print(a,'+ 3 =',a+3)\n",
        "print('abs({}) = {}'.format(b,abs(b)))"
      ],
      "execution_count": 19,
      "outputs": [
        {
          "output_type": "stream",
          "text": [
            "[3 1 4 2] + 3 = [6 4 7 5]\n",
            "abs([ 3 -1  3  2]) = [3 1 3 2]\n"
          ],
          "name": "stdout"
        }
      ]
    },
    {
      "cell_type": "code",
      "metadata": {
        "id": "xHqJ_wLHH1Hk",
        "colab_type": "code",
        "colab": {
          "base_uri": "https://localhost:8080/",
          "height": 34
        },
        "outputId": "ec233575-e420-4ae2-9ad9-83af406dd358"
      },
      "source": [
        "# można też łączyćze sobą te operacje...\n",
        "print(np.add(a,abs(b-5)))"
      ],
      "execution_count": 22,
      "outputs": [
        {
          "output_type": "stream",
          "text": [
            "[5 7 6 5]\n"
          ],
          "name": "stdout"
        }
      ]
    },
    {
      "cell_type": "code",
      "metadata": {
        "id": "BaVu_GCCITOB",
        "colab_type": "code",
        "colab": {
          "base_uri": "https://localhost:8080/",
          "height": 612
        },
        "outputId": "5c7bcde5-69a1-4142-e58e-6f30c46d9e04"
      },
      "source": [
        "x = np.array([[1,3],[-2,0]])\n",
        "y = np.array([[6,0],[-1,2]])\n",
        "            \n",
        "# mnożenie macierzy\n",
        "# zwykłe mnożenie * pomnozy przez siebie odpowiadajaće sobie komórki:\n",
        "print('Array x:\\n{}\\n\\nArray y\\n{}\\n\\nTheir product \"*\"\\n{}\\n'.format(x,y,x*y))\n",
        "print('-'*50,'\\n')\n",
        "\n",
        "# mnożenie macierzowe np.dot()\n",
        "print('Array x:\\n{}\\n\\nArray y\\n{}\\n\\nTheir matrix multiplication:\\n{}\\n'.format(x,y,np.dot(x,y)))\n",
        "print('-'*50,'\\n')\n",
        "\n",
        "# macierze można mnożyć na macierzy\n",
        "# nie zmienia to oryginalnej maceirzy\n",
        "print('x.dot(y)\\n',x.dot(y)) # to samo x @ y\n",
        "print()\n",
        "\n",
        "# mnożenie macierzowe nie jest przemienne!\n",
        "print('y.dot(x)\\n',y.dot(x)) "
      ],
      "execution_count": 35,
      "outputs": [
        {
          "output_type": "stream",
          "text": [
            "Array x:\n",
            "[[ 1  3]\n",
            " [-2  0]]\n",
            "\n",
            "Array y\n",
            "[[ 6  0]\n",
            " [-1  2]]\n",
            "\n",
            "Their product \"*\"\n",
            "[[6 0]\n",
            " [2 0]]\n",
            "\n",
            "-------------------------------------------------- \n",
            "\n",
            "Array x:\n",
            "[[ 1  3]\n",
            " [-2  0]]\n",
            "\n",
            "Array y\n",
            "[[ 6  0]\n",
            " [-1  2]]\n",
            "\n",
            "Their matrix multiplication:\n",
            "[[  3   6]\n",
            " [-12   0]]\n",
            "\n",
            "-------------------------------------------------- \n",
            "\n",
            "x.dot(y)\n",
            " [[  3   6]\n",
            " [-12   0]]\n",
            "\n",
            "y.dot(x)\n",
            " [[ 6 18]\n",
            " [-5 -3]]\n"
          ],
          "name": "stdout"
        }
      ]
    },
    {
      "cell_type": "code",
      "metadata": {
        "id": "aC_areieJSnc",
        "colab_type": "code",
        "colab": {}
      },
      "source": [
        ""
      ],
      "execution_count": null,
      "outputs": []
    }
  ]
}