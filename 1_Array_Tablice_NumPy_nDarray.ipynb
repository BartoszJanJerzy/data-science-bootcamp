{
  "nbformat": 4,
  "nbformat_minor": 0,
  "metadata": {
    "colab": {
      "name": "1 - Array: Tablice NumPy nDarray.ipynb",
      "provenance": [],
      "authorship_tag": "ABX9TyOW7oalyLMf61ZY3SrJMyYv",
      "include_colab_link": true
    },
    "kernelspec": {
      "name": "python3",
      "display_name": "Python 3"
    }
  },
  "cells": [
    {
      "cell_type": "markdown",
      "metadata": {
        "id": "view-in-github",
        "colab_type": "text"
      },
      "source": [
        "<a href=\"https://colab.research.google.com/github/BartoszJanJerzy/data-science-bootcamp/blob/master/1_Array_Tablice_NumPy_nDarray.ipynb\" target=\"_parent\"><img src=\"https://colab.research.google.com/assets/colab-badge.svg\" alt=\"Open In Colab\"/></a>"
      ]
    },
    {
      "cell_type": "code",
      "metadata": {
        "id": "0542XavtoolG",
        "colab_type": "code",
        "colab": {}
      },
      "source": [
        "import numpy as np # numerical Python"
      ],
      "execution_count": 2,
      "outputs": []
    },
    {
      "cell_type": "code",
      "metadata": {
        "id": "EnGxWo3So8VC",
        "colab_type": "code",
        "colab": {
          "base_uri": "https://localhost:8080/",
          "height": 35
        },
        "outputId": "20fd6ef0-8f57-40bf-8736-ae819cc507b8"
      },
      "source": [
        "np.__version__"
      ],
      "execution_count": 3,
      "outputs": [
        {
          "output_type": "execute_result",
          "data": {
            "application/vnd.google.colaboratory.intrinsic": {
              "type": "string"
            },
            "text/plain": [
              "'1.18.5'"
            ]
          },
          "metadata": {
            "tags": []
          },
          "execution_count": 3
        }
      ]
    },
    {
      "cell_type": "code",
      "metadata": {
        "id": "eNM5wJN34LMB",
        "colab_type": "code",
        "colab": {}
      },
      "source": [
        "# dostępne atrybuty od numpy\n",
        "\n",
        "dir(np)"
      ],
      "execution_count": null,
      "outputs": []
    },
    {
      "cell_type": "code",
      "metadata": {
        "id": "mr1_j7Mu4YZA",
        "colab_type": "code",
        "colab": {
          "base_uri": "https://localhost:8080/",
          "height": 102
        },
        "outputId": "6a91f0c8-4499-405f-8c5d-d0b8fe164940"
      },
      "source": [
        "# podstaoowy obiekt numpy to tablice 'nD' (n = 1 / 2/ 3)\n",
        "# komenda do tworzenia tablic to array\n",
        "\n",
        "# tablica 1D\n",
        "x = np.array([1,3])\n",
        "print('1D array: ',x)\n",
        "\n",
        "# ile wymiarów ma tablica?\n",
        "print('\\tNumber of dimensions: ',x.ndim)\n",
        "\n",
        "# jaki kształt ma tablica?\n",
        "print('\\tShape of array:', x.shape)\n",
        "\n",
        "# jaką wielkosć ma tablica?\n",
        "print('\\tSize of array is: ', x.size)\n",
        "\n",
        "# jaki typ danych jest w tablicy?\n",
        "print('\\tType of values in array is: ', x.dtype)"
      ],
      "execution_count": 25,
      "outputs": [
        {
          "output_type": "stream",
          "text": [
            "1D array:  [1 3]\n",
            "\tNumber of dimensions:  1\n",
            "\tShape of array: (2,)\n",
            "\tSize of array is:  2\n",
            "\tType of values in array is:  int64\n"
          ],
          "name": "stdout"
        }
      ]
    },
    {
      "cell_type": "code",
      "metadata": {
        "id": "WaQTo52v5P1G",
        "colab_type": "code",
        "colab": {
          "base_uri": "https://localhost:8080/",
          "height": 136
        },
        "outputId": "b2cdbef9-42a6-482e-bd0c-83bb0ef93379"
      },
      "source": [
        "# tablica 2D\n",
        "x = np.array([[1,3,5.5], [-3, 2.5,6.7]])\n",
        "print('2D array:\\n',x)\n",
        "\n",
        "# ile wymiarów ma tablica?\n",
        "print('\\tNumber of dimensions: ',x.ndim)\n",
        "\n",
        "# jaki kształt ma tablica?\n",
        "print('\\tShape of array:', x.shape)\n",
        "\n",
        "# jaką wielkosć ma tablica?\n",
        "print('\\tSize of array is: ', x.size)\n",
        "\n",
        "# jaki typ danych jest w tablicy?\n",
        "print('\\tType of values in array is: ', x.dtype)"
      ],
      "execution_count": 24,
      "outputs": [
        {
          "output_type": "stream",
          "text": [
            "2D array:\n",
            " [[ 1.   3.   5.5]\n",
            " [-3.   2.5  6.7]]\n",
            "\tNumber of dimensions:  2\n",
            "\tShape of array: (2, 3)\n",
            "\tSize of array is:  6\n",
            "\tType of values in array is:  float64\n"
          ],
          "name": "stdout"
        }
      ]
    },
    {
      "cell_type": "code",
      "metadata": {
        "id": "-802McRy6iwk",
        "colab_type": "code",
        "colab": {
          "base_uri": "https://localhost:8080/",
          "height": 187
        },
        "outputId": "7ca19bf9-ebd2-401e-d59d-836c7e5965df"
      },
      "source": [
        "# tablica 3D: dla lepszej wizualizacji kodu można pisać w kilku linijkach\n",
        "x = np.array(\n",
        "    [[[4,3,1],\n",
        "      [3,1,2]],\n",
        "     [[4,1,3],\n",
        "      [4,2,1]]]\n",
        ")\n",
        "print('3D array:\\n',x)\n",
        "\n",
        "# ile wymiarów ma tablica?\n",
        "print('\\tNumber of dimensions: ',x.ndim)\n",
        "\n",
        "# jaki kształt ma tablica?\n",
        "print('\\tShape of array:', x.shape)\n",
        "\n",
        "# jaką wielkosć ma tablica?\n",
        "print('\\tSize of array is: ', x.size)\n",
        "\n",
        "# jaki typ danych jest w tablicy?\n",
        "print('\\tType of values in array is: ', x.dtype)"
      ],
      "execution_count": 26,
      "outputs": [
        {
          "output_type": "stream",
          "text": [
            "3D array:\n",
            " [[[4 3 1]\n",
            "  [3 1 2]]\n",
            "\n",
            " [[4 1 3]\n",
            "  [4 2 1]]]\n",
            "\tNumber of dimensions:  3\n",
            "\tShape of array: (2, 2, 3)\n",
            "\tSize of array is:  12\n",
            "\tType of values in array is:  int64\n"
          ],
          "name": "stdout"
        }
      ]
    },
    {
      "cell_type": "code",
      "metadata": {
        "id": "HpnlDsSt8Ebt",
        "colab_type": "code",
        "colab": {}
      },
      "source": [
        ""
      ],
      "execution_count": null,
      "outputs": []
    }
  ]
}