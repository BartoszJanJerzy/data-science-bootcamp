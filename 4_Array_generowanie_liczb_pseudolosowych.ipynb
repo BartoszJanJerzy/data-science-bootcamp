{
  "nbformat": 4,
  "nbformat_minor": 0,
  "metadata": {
    "colab": {
      "name": "4 - Array: generowanie liczb pseudolosowych.ipynb",
      "provenance": [],
      "authorship_tag": "ABX9TyNF9WA8BZwTQwNhscn4ERGH",
      "include_colab_link": true
    },
    "kernelspec": {
      "name": "python3",
      "display_name": "Python 3"
    }
  },
  "cells": [
    {
      "cell_type": "markdown",
      "metadata": {
        "id": "view-in-github",
        "colab_type": "text"
      },
      "source": [
        "<a href=\"https://colab.research.google.com/github/BartoszJanJerzy/data-science-bootcamp/blob/master/4_Array_generowanie_liczb_pseudolosowych.ipynb\" target=\"_parent\"><img src=\"https://colab.research.google.com/assets/colab-badge.svg\" alt=\"Open In Colab\"/></a>"
      ]
    },
    {
      "cell_type": "code",
      "metadata": {
        "id": "y1G-TlPwLVrv",
        "colab_type": "code",
        "colab": {}
      },
      "source": [
        "import numpy as np"
      ],
      "execution_count": 1,
      "outputs": []
    },
    {
      "cell_type": "code",
      "metadata": {
        "id": "E4W6s_dbLckh",
        "colab_type": "code",
        "colab": {
          "base_uri": "https://localhost:8080/",
          "height": 272
        },
        "outputId": "865d0e0b-db9f-49bf-f36e-8c1391ff1a6e"
      },
      "source": [
        "# losowe wartości z rozkładu normalnego\n",
        "# M=0, SD=1\n",
        "\n",
        "# jedna wartość\n",
        "print(np.random.randn())\n",
        "print()\n",
        "\n",
        "# wybrana ilośc wartości, np. 10\n",
        "print(np.random.randn(10))\n",
        "print()\n",
        "\n",
        "# wybrana ilośc wartości w macierzy: 4 kolumny, 10 wierszy\n",
        "print(np.random.randn(10,4))"
      ],
      "execution_count": 7,
      "outputs": [
        {
          "output_type": "stream",
          "text": [
            "-1.2679664494799343\n",
            "\n",
            "[ 0.06621689 -0.98150582 -2.75234311  0.20459052  2.82199031  1.2091346\n",
            "  0.04466325  1.79174455 -1.43240288 -0.82760709]\n",
            "\n",
            "[[-0.50339338  1.74737533  1.41380029 -0.67219736]\n",
            " [ 0.35801553  0.70491878 -1.50664989  1.02053471]\n",
            " [-0.44865939  0.48084358  0.07254297  2.33063349]\n",
            " [ 1.0544315   0.0227078   0.30116025  0.22178238]\n",
            " [-1.04064785  0.79449803  0.10221673 -0.09365756]\n",
            " [-1.03175928  1.51980182  0.22675213 -0.69856631]\n",
            " [-1.82255031 -0.11968033  1.35460614  1.43201934]\n",
            " [ 0.72760603 -1.32457978 -0.42087725 -0.07748592]\n",
            " [-1.10243077 -0.62886605  0.74745809  0.42283465]\n",
            " [ 0.38236998 -0.71054488 -0.26363044 -0.39614889]]\n"
          ],
          "name": "stdout"
        }
      ]
    },
    {
      "cell_type": "code",
      "metadata": {
        "id": "sLQQEGM_MK9r",
        "colab_type": "code",
        "colab": {
          "base_uri": "https://localhost:8080/",
          "height": 357
        },
        "outputId": "097eaea0-8d1c-46e5-e201-23d24fc552a8"
      },
      "source": [
        "# liczby losowe w zakresie 0-1\n",
        "print(np.random.rand())\n",
        "print()\n",
        "\n",
        "# macierz liczb losowych (10 wierszy,2 kolumny) w zakresei 0-1\n",
        "print(np.random.rand(10,2))\n",
        "print()\n",
        "\n",
        "# liczba losowa całkowita w wybranym zakresie, np. 0-9\n",
        "print(np.random.randint(10))\n",
        "print()\n",
        "\n",
        "# liczba losowa całkowita w wybranym zakresie, np. 10-99\n",
        "print(np.random.randint(low=10, high=100))\n",
        "print()\n",
        "\n",
        "# liczba losowa całkowita w wybranym zakresie, np. 10-99\n",
        "# w macierzy 2 wiersze x 10 kolumn\n",
        "print(np.random.randint(low=10, high=100, size=(2,10)))\n",
        "print()"
      ],
      "execution_count": 13,
      "outputs": [
        {
          "output_type": "stream",
          "text": [
            "0.39167816595593685\n",
            "\n",
            "[[0.4907649  0.74753396]\n",
            " [0.27228142 0.42765893]\n",
            " [0.70056553 0.39679934]\n",
            " [0.20487381 0.14458078]\n",
            " [0.66878618 0.06804794]\n",
            " [0.90543519 0.49723578]\n",
            " [0.21023746 0.89870277]\n",
            " [0.79613292 0.01077235]\n",
            " [0.11235863 0.03690843]\n",
            " [0.78361218 0.69680761]]\n",
            "\n",
            "8\n",
            "\n",
            "69\n",
            "\n",
            "[[75 85 56 33 18 78 67 26 99 89]\n",
            " [86 32 56 91 33 55 16 87 41 34]]\n",
            "\n"
          ],
          "name": "stdout"
        }
      ]
    },
    {
      "cell_type": "code",
      "metadata": {
        "id": "wiJTmMsOND12",
        "colab_type": "code",
        "colab": {
          "base_uri": "https://localhost:8080/",
          "height": 51
        },
        "outputId": "4b5436f9-9daf-4f14-f019-8b6beb71674c"
      },
      "source": [
        "# wybór losowy z podanych danych\n",
        "a = np.arange(10)\n",
        "print(np.random.choice(a))\n",
        "\n",
        "# to samo na danych tekstowych\n",
        "scripts = ['pytho','java','sql']\n",
        "print(np.random.choice(scripts))"
      ],
      "execution_count": 19,
      "outputs": [
        {
          "output_type": "stream",
          "text": [
            "2\n",
            "pytho\n"
          ],
          "name": "stdout"
        }
      ]
    },
    {
      "cell_type": "code",
      "metadata": {
        "id": "eMd37KTbOWiL",
        "colab_type": "code",
        "colab": {
          "base_uri": "https://localhost:8080/",
          "height": 51
        },
        "outputId": "94bc2d06-2f28-414d-cfba-860dac48ff44"
      },
      "source": [
        "# tasowanie danych\n",
        "data = np.arange(20)\n",
        "np.random.shuffle(data)\n",
        "data"
      ],
      "execution_count": 28,
      "outputs": [
        {
          "output_type": "execute_result",
          "data": {
            "text/plain": [
              "array([ 3, 13,  2,  7, 15, 17, 10, 12, 14,  9,  6, 11,  4,  5, 16,  1, 19,\n",
              "        0, 18,  8])"
            ]
          },
          "metadata": {
            "tags": []
          },
          "execution_count": 28
        }
      ]
    },
    {
      "cell_type": "code",
      "metadata": {
        "id": "DzPktOW4PNO4",
        "colab_type": "code",
        "colab": {}
      },
      "source": [
        ""
      ],
      "execution_count": null,
      "outputs": []
    }
  ]
}