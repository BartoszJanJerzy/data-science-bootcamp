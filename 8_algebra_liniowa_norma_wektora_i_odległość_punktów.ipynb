{
  "nbformat": 4,
  "nbformat_minor": 0,
  "metadata": {
    "colab": {
      "name": "8 - algebra liniowa: norma wektora i odległość punktów.ipynb",
      "provenance": [],
      "authorship_tag": "ABX9TyOU9p8fSZKpRyHt5YBRvFmz",
      "include_colab_link": true
    },
    "kernelspec": {
      "name": "python3",
      "display_name": "Python 3"
    }
  },
  "cells": [
    {
      "cell_type": "markdown",
      "metadata": {
        "id": "view-in-github",
        "colab_type": "text"
      },
      "source": [
        "<a href=\"https://colab.research.google.com/github/BartoszJanJerzy/data-science-bootcamp/blob/master/8_algebra_liniowa_norma_wektora_i_odleg%C5%82o%C5%9B%C4%87_punkt%C3%B3w.ipynb\" target=\"_parent\"><img src=\"https://colab.research.google.com/assets/colab-badge.svg\" alt=\"Open In Colab\"/></a>"
      ]
    },
    {
      "cell_type": "code",
      "metadata": {
        "id": "a7N1L0FMLFFS",
        "colab_type": "code",
        "colab": {}
      },
      "source": [
        "import numpy as np"
      ],
      "execution_count": 1,
      "outputs": []
    },
    {
      "cell_type": "markdown",
      "metadata": {
        "id": "Cmlv8nAXO_RS",
        "colab_type": "text"
      },
      "source": [
        "# Wektory i punkty"
      ]
    },
    {
      "cell_type": "code",
      "metadata": {
        "id": "ZLYIWCchLPfS",
        "colab_type": "code",
        "colab": {
          "base_uri": "https://localhost:8080/",
          "height": 68
        },
        "outputId": "643ecd13-ed63-423f-ba87-6df25c192874"
      },
      "source": [
        "# tworzenie wektora\n",
        "v1 = np.array([0,4])\n",
        "print(v1)\n",
        "\n",
        "# norma (długość wektora) w przestrzeni R2\n",
        "print(np.linalg.norm(v1))\n",
        "\n",
        "# norma (długość) w przestrzeni Euklidesowej Rn\n",
        "v2 = np.array([-10,10,13])\n",
        "print(np.linalg.norm(v2))"
      ],
      "execution_count": 6,
      "outputs": [
        {
          "output_type": "stream",
          "text": [
            "[0 4]\n",
            "4.0\n",
            "19.209372712298546\n"
          ],
          "name": "stdout"
        }
      ]
    },
    {
      "cell_type": "code",
      "metadata": {
        "id": "gQF7Fn8nM5gm",
        "colab_type": "code",
        "colab": {
          "base_uri": "https://localhost:8080/",
          "height": 34
        },
        "outputId": "b94ac9e4-c894-42ab-eb61-323cb28f635a"
      },
      "source": [
        "# odległość między dwoma punktami w przestrzeni R2\n",
        "p = np.array([0,3])\n",
        "q = np.array([4,0])\n",
        "\n",
        "np.linalg.norm(p-q)\n",
        "\n",
        "# tak samo działą w przestrzeni Rn"
      ],
      "execution_count": 9,
      "outputs": [
        {
          "output_type": "execute_result",
          "data": {
            "text/plain": [
              "5.0"
            ]
          },
          "metadata": {
            "tags": []
          },
          "execution_count": 9
        }
      ]
    },
    {
      "cell_type": "markdown",
      "metadata": {
        "id": "sBckzBADOxiK",
        "colab_type": "text"
      },
      "source": [
        "# Mnożenie macierzy\n",
        "### Warunek: liczba kolumn w macierzy 2' musi być równa ilości wierszy w macierzy 1'"
      ]
    },
    {
      "cell_type": "code",
      "metadata": {
        "id": "s_Jzh95POyjr",
        "colab_type": "code",
        "colab": {
          "base_uri": "https://localhost:8080/",
          "height": 170
        },
        "outputId": "742284f8-3522-48ba-b0c6-42f362af3192"
      },
      "source": [
        "# przykąłd mnożenia macierzy\n",
        "X = np.array([[5,3],[3,9]])\n",
        "Y = np.array([1,-1])\n",
        "Z = np.dot(X,Y)\n",
        "\n",
        "print(\"Macierz X:\\n{}\\n\\nMacierz Y:\\n{}\\n\".format(X,Y))\n",
        "print(\"Efektem mnożenia jest macierz:\",Z)\n",
        "print('[5*1 + 3*(-1)    3*1 + 9*(-1)]')"
      ],
      "execution_count": 20,
      "outputs": [
        {
          "output_type": "stream",
          "text": [
            "Macierz X:\n",
            "[[5 3]\n",
            " [3 9]]\n",
            "\n",
            "Macierz Y:\n",
            "[ 1 -1]\n",
            "\n",
            "Efektem mnożenia jest macierz: [ 2 -6]\n",
            "[5*1 + 3*(-1)    3*1 + 9*(-1)]\n"
          ],
          "name": "stdout"
        }
      ]
    },
    {
      "cell_type": "markdown",
      "metadata": {
        "id": "UYOQEtOIRzeO",
        "colab_type": "text"
      },
      "source": [
        "# Wyznacznik macierzy\n",
        "### Różnica iloczynów elementów przekątnych"
      ]
    },
    {
      "cell_type": "code",
      "metadata": {
        "id": "gKCUYXLWPylz",
        "colab_type": "code",
        "colab": {
          "base_uri": "https://localhost:8080/",
          "height": 34
        },
        "outputId": "6101eba6-4b74-4fc0-b716-e67b2278a281"
      },
      "source": [
        "# obliczanie wyznaczniku macierzy\n",
        "A = np.array([[2,4],[-1,3]])\n",
        "round(np.linalg.det(A))"
      ],
      "execution_count": 23,
      "outputs": [
        {
          "output_type": "execute_result",
          "data": {
            "text/plain": [
              "10.0"
            ]
          },
          "metadata": {
            "tags": []
          },
          "execution_count": 23
        }
      ]
    },
    {
      "cell_type": "markdown",
      "metadata": {
        "id": "Gq5QRrQHS9PT",
        "colab_type": "text"
      },
      "source": [
        "# Ślad macierzy\n",
        "### Suma elementów po przekątnej"
      ]
    },
    {
      "cell_type": "code",
      "metadata": {
        "id": "BBmQPeJFSxR8",
        "colab_type": "code",
        "colab": {
          "base_uri": "https://localhost:8080/",
          "height": 34
        },
        "outputId": "061938f8-d165-4335-cb5d-3a4efff9cdc0"
      },
      "source": [
        "# obliczanie śladu macierzy\n",
        "np.trace(A)"
      ],
      "execution_count": 24,
      "outputs": [
        {
          "output_type": "execute_result",
          "data": {
            "text/plain": [
              "5"
            ]
          },
          "metadata": {
            "tags": []
          },
          "execution_count": 24
        }
      ]
    },
    {
      "cell_type": "markdown",
      "metadata": {
        "id": "2JO0GnZlTQsX",
        "colab_type": "text"
      },
      "source": [
        "# Macierz jednostkowa\n",
        "### suma elementów w kolumnach i wierszach to 1"
      ]
    },
    {
      "cell_type": "code",
      "metadata": {
        "id": "XfQdWMP-TMGF",
        "colab_type": "code",
        "colab": {
          "base_uri": "https://localhost:8080/",
          "height": 102
        },
        "outputId": "88772b26-d3d5-4f22-9900-7f65fceaac6c"
      },
      "source": [
        "# tworzenie macierzy jednostkowej\n",
        "np.eye(5)"
      ],
      "execution_count": 25,
      "outputs": [
        {
          "output_type": "execute_result",
          "data": {
            "text/plain": [
              "array([[1., 0., 0., 0., 0.],\n",
              "       [0., 1., 0., 0., 0.],\n",
              "       [0., 0., 1., 0., 0.],\n",
              "       [0., 0., 0., 1., 0.],\n",
              "       [0., 0., 0., 0., 1.]])"
            ]
          },
          "metadata": {
            "tags": []
          },
          "execution_count": 25
        }
      ]
    },
    {
      "cell_type": "markdown",
      "metadata": {
        "id": "cSzOiiyDT801",
        "colab_type": "text"
      },
      "source": [
        "# Macierz odwrotna\n",
        "### macierz kwadratowa stopnia *n*. Macierz A posiada maceirz odwrtoną, gdy istnieje maceirz B, taka że:\n",
        "###AB = BA = I (jednostkowa)"
      ]
    },
    {
      "cell_type": "code",
      "metadata": {
        "id": "de3C3HIpTpBq",
        "colab_type": "code",
        "colab": {
          "base_uri": "https://localhost:8080/",
          "height": 204
        },
        "outputId": "80130603-570f-47fe-e0ec-bbf3d0738ca5"
      },
      "source": [
        "# jak znaleźć macierz odwrotną?\n",
        "B = np.linalg.inv(A)\n",
        "\n",
        "np.set_printoptions(precision=4, suppress=True) #dokładnośc wyświetlanych liczb\n",
        "\n",
        "print('Matrix A:\\n',A)\n",
        "print()\n",
        "print('Matrix B (inversed A):\\n',B)\n",
        "print()\n",
        "print('np.dot(A,B):\\n',np.dot(A,B))"
      ],
      "execution_count": 28,
      "outputs": [
        {
          "output_type": "stream",
          "text": [
            "Matrix A:\n",
            " [[ 2  4]\n",
            " [-1  3]]\n",
            "\n",
            "Matrix B (inversed A):\n",
            " [[ 0.3 -0.4]\n",
            " [ 0.1  0.2]]\n",
            "\n",
            "np.dot(A,B):\n",
            " [[1. 0.]\n",
            " [0. 1.]]\n"
          ],
          "name": "stdout"
        }
      ]
    },
    {
      "cell_type": "markdown",
      "metadata": {
        "id": "vsBP9p6WVba5",
        "colab_type": "text"
      },
      "source": [
        "# Macierz transponowana\n",
        "### Zamianawierszy na kolumny"
      ]
    },
    {
      "cell_type": "code",
      "metadata": {
        "id": "ZxV3I5I-U7Bt",
        "colab_type": "code",
        "colab": {
          "base_uri": "https://localhost:8080/",
          "height": 102
        },
        "outputId": "219d7e24-e685-4810-ffd3-d8ab5ecd238e"
      },
      "source": [
        "# transponowanie macierzy\n",
        "print(A)\n",
        "print()\n",
        "print(np.transpose(A))"
      ],
      "execution_count": 30,
      "outputs": [
        {
          "output_type": "stream",
          "text": [
            "[[ 2  4]\n",
            " [-1  3]]\n",
            "\n",
            "[[ 2 -1]\n",
            " [ 4  3]]\n"
          ],
          "name": "stdout"
        }
      ]
    },
    {
      "cell_type": "markdown",
      "metadata": {
        "id": "_NWalBABXX1H",
        "colab_type": "text"
      },
      "source": [
        "#Rozwiazywanie układu równań na macierzy"
      ]
    },
    {
      "cell_type": "code",
      "metadata": {
        "id": "fa4sdhl1VyOf",
        "colab_type": "code",
        "colab": {
          "base_uri": "https://localhost:8080/",
          "height": 374
        },
        "outputId": "cc2cc233-39d6-4499-dcfc-1af8447a9b9b"
      },
      "source": [
        "A = np.array([[2,4],[1,-1]]) # macierz współczynników\n",
        "B = np.array([[10],[-1]]) #macierz wyrazów wolnych\n",
        "A_inv = np.linalg.inv(A) # maceirz odwrotna do A\n",
        "X = np.dot(A_inv,B) # macierz z wynikami\n",
        "\n",
        "print('Równanie:\\n\\t2x + 4y = 10\\n\\tx - y = -1')\n",
        "print()\n",
        "print('Macierz A współczynników:\\n',A)\n",
        "print()\n",
        "print('Macierz B wyrazów wolnych\\n',B)\n",
        "print()\n",
        "print('Macierz odwrotna do A:\\n',A_inv)\n",
        "print()\n",
        "print('Macierz z wynikami (np.dot(A_inv,B)):\\n',X)\n",
        "print()\n",
        "print('Rozwiązanie: x={}, y={}'.format(X[0],X[1]))"
      ],
      "execution_count": 34,
      "outputs": [
        {
          "output_type": "stream",
          "text": [
            "Równanie:\n",
            "\t2x + 4y = 10\n",
            "\tx - y = -1\n",
            "\n",
            "Macierz A współczynników:\n",
            " [[ 2  4]\n",
            " [ 1 -1]]\n",
            "\n",
            "Macierz B wyrazów wolnych\n",
            " [[10]\n",
            " [-1]]\n",
            "\n",
            "Macierz odwrotna do A:\n",
            " [[ 0.1667  0.6667]\n",
            " [ 0.1667 -0.3333]]\n",
            "\n",
            "Macierz z wynikami (np.dot(A_inv,B)):\n",
            " [[1.]\n",
            " [2.]]\n",
            "\n",
            "Rozwiązanie: x=[1.], y=[2.]\n"
          ],
          "name": "stdout"
        }
      ]
    },
    {
      "cell_type": "code",
      "metadata": {
        "id": "dkBYw1-HY7dx",
        "colab_type": "code",
        "colab": {}
      },
      "source": [
        ""
      ],
      "execution_count": null,
      "outputs": []
    }
  ]
}