{
  "nbformat": 4,
  "nbformat_minor": 0,
  "metadata": {
    "colab": {
      "name": "2 - Array: tworzenie tablic NumPy ndArray.ipynb",
      "provenance": [],
      "authorship_tag": "ABX9TyNRXQFSz7+BmWXvQwj6QkFL",
      "include_colab_link": true
    },
    "kernelspec": {
      "name": "python3",
      "display_name": "Python 3"
    }
  },
  "cells": [
    {
      "cell_type": "markdown",
      "metadata": {
        "id": "view-in-github",
        "colab_type": "text"
      },
      "source": [
        "<a href=\"https://colab.research.google.com/github/BartoszJanJerzy/data-science-bootcamp/blob/master/2_Array_tworzenie_tablic_NumPy_ndArray.ipynb\" target=\"_parent\"><img src=\"https://colab.research.google.com/assets/colab-badge.svg\" alt=\"Open In Colab\"/></a>"
      ]
    },
    {
      "cell_type": "code",
      "metadata": {
        "id": "sc2JEqDO-2vh",
        "colab_type": "code",
        "colab": {}
      },
      "source": [
        "import numpy as np"
      ],
      "execution_count": 1,
      "outputs": []
    },
    {
      "cell_type": "code",
      "metadata": {
        "id": "wptXiWvo_Kcl",
        "colab_type": "code",
        "colab": {
          "base_uri": "https://localhost:8080/",
          "height": 204
        },
        "outputId": "a42f4f14-a8a1-4089-9784-d500070ebb60"
      },
      "source": [
        "# tablica złozona z samych 0\n",
        "# domyślnie wartości są float\n",
        "print('2D 0-array with float:\\n', np.zeros(shape=(4,10)))\n",
        "\n",
        "# a jesli chcę z int\n",
        "print('\\n2D 0-array with int:\\n', np.zeros(shape=(4,10), dtype='int'))"
      ],
      "execution_count": 9,
      "outputs": [
        {
          "output_type": "stream",
          "text": [
            "2D 0-array with float:\n",
            " [[0. 0. 0. 0. 0. 0. 0. 0. 0. 0.]\n",
            " [0. 0. 0. 0. 0. 0. 0. 0. 0. 0.]\n",
            " [0. 0. 0. 0. 0. 0. 0. 0. 0. 0.]\n",
            " [0. 0. 0. 0. 0. 0. 0. 0. 0. 0.]]\n",
            "\n",
            "2D 0-array with int:\n",
            " [[0 0 0 0 0 0 0 0 0 0]\n",
            " [0 0 0 0 0 0 0 0 0 0]\n",
            " [0 0 0 0 0 0 0 0 0 0]\n",
            " [0 0 0 0 0 0 0 0 0 0]]\n"
          ],
          "name": "stdout"
        }
      ]
    },
    {
      "cell_type": "code",
      "metadata": {
        "id": "k1p-7zcR_QJd",
        "colab_type": "code",
        "colab": {
          "base_uri": "https://localhost:8080/",
          "height": 204
        },
        "outputId": "98a39057-2e49-40b6-bf89-61b900c85292"
      },
      "source": [
        "# podobnie z 1-kami\n",
        "print('2D 1-array with float:\\n', np.ones(shape=(4,10)))\n",
        "\n",
        "# a jesli chcę z int\n",
        "print('\\n2D 1-array with int:\\n', np.ones(shape=(4,10), dtype='int'))"
      ],
      "execution_count": 10,
      "outputs": [
        {
          "output_type": "stream",
          "text": [
            "2D 1-array with float:\n",
            " [[1. 1. 1. 1. 1. 1. 1. 1. 1. 1.]\n",
            " [1. 1. 1. 1. 1. 1. 1. 1. 1. 1.]\n",
            " [1. 1. 1. 1. 1. 1. 1. 1. 1. 1.]\n",
            " [1. 1. 1. 1. 1. 1. 1. 1. 1. 1.]]\n",
            "\n",
            "2D 1-array with int:\n",
            " [[1 1 1 1 1 1 1 1 1 1]\n",
            " [1 1 1 1 1 1 1 1 1 1]\n",
            " [1 1 1 1 1 1 1 1 1 1]\n",
            " [1 1 1 1 1 1 1 1 1 1]]\n"
          ],
          "name": "stdout"
        }
      ]
    },
    {
      "cell_type": "code",
      "metadata": {
        "id": "kag8AO7yAI_W",
        "colab_type": "code",
        "colab": {
          "base_uri": "https://localhost:8080/",
          "height": 204
        },
        "outputId": "0ef67b8a-605d-48bc-e282-af0f939eb580"
      },
      "source": [
        "# a jeśli chcę kontrolwoać wartości?\n",
        "\n",
        "print('2D array with float:\\n', np.full(shape=(4,10), fill_value=4))\n",
        "\n",
        "# a jesli chcę z int\n",
        "print('\\n2D 0-array with int:\\n', np.full(shape=(4,10), fill_value=4, dtype='int'))"
      ],
      "execution_count": 12,
      "outputs": [
        {
          "output_type": "stream",
          "text": [
            "2D array with float:\n",
            " [[4 4 4 4 4 4 4 4 4 4]\n",
            " [4 4 4 4 4 4 4 4 4 4]\n",
            " [4 4 4 4 4 4 4 4 4 4]\n",
            " [4 4 4 4 4 4 4 4 4 4]]\n",
            "\n",
            "2D 0-array with int:\n",
            " [[4 4 4 4 4 4 4 4 4 4]\n",
            " [4 4 4 4 4 4 4 4 4 4]\n",
            " [4 4 4 4 4 4 4 4 4 4]\n",
            " [4 4 4 4 4 4 4 4 4 4]]\n"
          ],
          "name": "stdout"
        }
      ]
    },
    {
      "cell_type": "code",
      "metadata": {
        "id": "bc3lihACAYZP",
        "colab_type": "code",
        "colab": {
          "base_uri": "https://localhost:8080/",
          "height": 102
        },
        "outputId": "8aa05b10-ef82-4dcf-875a-972f95e0ebd3"
      },
      "source": [
        "# generowanie tablicy 1D funkcją arange()\n",
        "# ostatni element się nie wlicza!\n",
        "print(np.arange(10))\n",
        "\n",
        "# a w konkretnym zakresie\n",
        "print(np.arange(start=5, stop=10))\n",
        "\n",
        "# można też ustalić krok\n",
        "print(np.arange(start=10, stop=100, step=10))\n",
        "\n",
        "# krok może być ujemny -> tablica malejąca\n",
        "print(np.arange(start=100, stop=10, step= -10))\n",
        "\n",
        "# krok może być typu float\n",
        "print(np.arange(start=100, stop=10, step= -10.5))"
      ],
      "execution_count": 17,
      "outputs": [
        {
          "output_type": "stream",
          "text": [
            "[0 1 2 3 4 5 6 7 8 9]\n",
            "[5 6 7 8 9]\n",
            "[10 20 30 40 50 60 70 80 90]\n",
            "[100  90  80  70  60  50  40  30  20]\n",
            "[100.   89.5  79.   68.5  58.   47.5  37.   26.5  16. ]\n"
          ],
          "name": "stdout"
        }
      ]
    },
    {
      "cell_type": "code",
      "metadata": {
        "id": "6_os0KXiBcAE",
        "colab_type": "code",
        "colab": {
          "base_uri": "https://localhost:8080/",
          "height": 34
        },
        "outputId": "d453c696-0ede-45c5-d7f0-9a3afa8c6d73"
      },
      "source": [
        "# generowanie liczb rozłozonyhc równo w danym zakresie\n",
        "print(np.linspace(start=0, stop=1, num=11))"
      ],
      "execution_count": 19,
      "outputs": [
        {
          "output_type": "stream",
          "text": [
            "[0.  0.1 0.2 0.3 0.4 0.5 0.6 0.7 0.8 0.9 1. ]\n"
          ],
          "name": "stdout"
        }
      ]
    },
    {
      "cell_type": "code",
      "metadata": {
        "id": "C19N6SMRCJYO",
        "colab_type": "code",
        "colab": {
          "base_uri": "https://localhost:8080/",
          "height": 340
        },
        "outputId": "995a33b7-a422-458c-b7ae-6e576b33aa7a"
      },
      "source": [
        "# zmiana kształtu tablicy\n",
        "a = np.arange(15)\n",
        "print('Array a is\\n', a)\n",
        "print()\n",
        "\n",
        "# dobieramy samodzielnei rozmiar aby zgadzał się\n",
        "b = a.reshape((3,5))\n",
        "print('Array with given rows (3) and columns (5) is:\\n', b)\n",
        "print()\n",
        "\n",
        "# definiujemy liczbę wierszy, a Python dobiera liczbę kolumn (-1)\n",
        "c = a.reshape((3, -1))\n",
        "print('Array with given rows (3) and automatic columns:\\n', c)\n",
        "print()\n",
        "\n",
        "# definiujemy liczbę kolumn a Python dobiera wiersze (-1)\n",
        "d = a.reshape((-1,3))\n",
        "print('Array with given columns (3) and autoamitc rows:\\n', d)"
      ],
      "execution_count": 21,
      "outputs": [
        {
          "output_type": "stream",
          "text": [
            "Array a is\n",
            " [ 0  1  2  3  4  5  6  7  8  9 10 11 12 13 14]\n",
            "\n",
            "Array with given rows (3) and columns (5) is:\n",
            " [[ 0  1  2  3  4]\n",
            " [ 5  6  7  8  9]\n",
            " [10 11 12 13 14]]\n",
            "\n",
            "Array with given rows (3) and automatic columns:\n",
            " [[ 0  1  2  3  4]\n",
            " [ 5  6  7  8  9]\n",
            " [10 11 12 13 14]]\n",
            "\n",
            "Array with given columns (3) and autoamitc rows:\n",
            " [[ 0  1  2]\n",
            " [ 3  4  5]\n",
            " [ 6  7  8]\n",
            " [ 9 10 11]\n",
            " [12 13 14]]\n"
          ],
          "name": "stdout"
        }
      ]
    },
    {
      "cell_type": "code",
      "metadata": {
        "id": "8Q35FEAhC_pY",
        "colab_type": "code",
        "colab": {}
      },
      "source": [
        ""
      ],
      "execution_count": null,
      "outputs": []
    }
  ]
}