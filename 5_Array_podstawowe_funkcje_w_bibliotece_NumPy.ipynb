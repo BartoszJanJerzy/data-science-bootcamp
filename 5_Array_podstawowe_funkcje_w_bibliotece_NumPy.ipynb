{
  "nbformat": 4,
  "nbformat_minor": 0,
  "metadata": {
    "colab": {
      "name": "5 - Array: podstawowe funkcje w bibliotece NumPy.ipynb",
      "provenance": [],
      "authorship_tag": "ABX9TyOfaJllJuOneuMh/nj2Ha41",
      "include_colab_link": true
    },
    "kernelspec": {
      "name": "python3",
      "display_name": "Python 3"
    }
  },
  "cells": [
    {
      "cell_type": "markdown",
      "metadata": {
        "id": "view-in-github",
        "colab_type": "text"
      },
      "source": [
        "<a href=\"https://colab.research.google.com/github/BartoszJanJerzy/data-science-bootcamp/blob/master/5_Array_podstawowe_funkcje_w_bibliotece_NumPy.ipynb\" target=\"_parent\"><img src=\"https://colab.research.google.com/assets/colab-badge.svg\" alt=\"Open In Colab\"/></a>"
      ]
    },
    {
      "cell_type": "code",
      "metadata": {
        "id": "A_ml7NsaRJq9",
        "colab_type": "code",
        "colab": {}
      },
      "source": [
        "import numpy as np"
      ],
      "execution_count": 1,
      "outputs": []
    },
    {
      "cell_type": "code",
      "metadata": {
        "id": "JwXVRsW0RR1F",
        "colab_type": "code",
        "colab": {
          "base_uri": "https://localhost:8080/",
          "height": 34
        },
        "outputId": "b2815f1f-e9e6-4034-c7fa-effef5bc29b2"
      },
      "source": [
        "# stała exp\n",
        "np.exp(1)"
      ],
      "execution_count": 4,
      "outputs": [
        {
          "output_type": "execute_result",
          "data": {
            "text/plain": [
              "2.718281828459045"
            ]
          },
          "metadata": {
            "tags": []
          },
          "execution_count": 4
        }
      ]
    },
    {
      "cell_type": "code",
      "metadata": {
        "id": "iniQBmezRWqy",
        "colab_type": "code",
        "colab": {
          "base_uri": "https://localhost:8080/",
          "height": 34
        },
        "outputId": "37dddefc-4aa1-4d49-d999-59b74be462b9"
      },
      "source": [
        "# pierwiastek\n",
        "np.sqrt(4)"
      ],
      "execution_count": 6,
      "outputs": [
        {
          "output_type": "execute_result",
          "data": {
            "text/plain": [
              "2.0"
            ]
          },
          "metadata": {
            "tags": []
          },
          "execution_count": 6
        }
      ]
    },
    {
      "cell_type": "code",
      "metadata": {
        "id": "4VTg2UvlRbqA",
        "colab_type": "code",
        "colab": {
          "base_uri": "https://localhost:8080/",
          "height": 34
        },
        "outputId": "786c8158-25bf-43f9-9581-d4a47ec5bc1b"
      },
      "source": [
        "# czy WSZYSTKIE wartości są True?\n",
        "np.all([2,3,1])"
      ],
      "execution_count": 7,
      "outputs": [
        {
          "output_type": "execute_result",
          "data": {
            "text/plain": [
              "True"
            ]
          },
          "metadata": {
            "tags": []
          },
          "execution_count": 7
        }
      ]
    },
    {
      "cell_type": "code",
      "metadata": {
        "id": "0IP4aipTRkP_",
        "colab_type": "code",
        "colab": {
          "base_uri": "https://localhost:8080/",
          "height": 34
        },
        "outputId": "adda41dc-29d8-4bd2-b2d8-3594b785afff"
      },
      "source": [
        "# czy JAKAKOLWIEK wartośc jest True\n",
        "np.any([0,0,0,1])"
      ],
      "execution_count": 8,
      "outputs": [
        {
          "output_type": "execute_result",
          "data": {
            "text/plain": [
              "True"
            ]
          },
          "metadata": {
            "tags": []
          },
          "execution_count": 8
        }
      ]
    },
    {
      "cell_type": "code",
      "metadata": {
        "id": "erICbSz6RufC",
        "colab_type": "code",
        "colab": {
          "base_uri": "https://localhost:8080/",
          "height": 34
        },
        "outputId": "4f91fe0d-9f6d-4ff4-82be-2ba0afe9712b"
      },
      "source": [
        "# zwracanie wartośic logicznej\n",
        "bool('blablablabla')"
      ],
      "execution_count": 10,
      "outputs": [
        {
          "output_type": "execute_result",
          "data": {
            "text/plain": [
              "True"
            ]
          },
          "metadata": {
            "tags": []
          },
          "execution_count": 10
        }
      ]
    },
    {
      "cell_type": "code",
      "metadata": {
        "id": "0j_0NBdLRyJz",
        "colab_type": "code",
        "colab": {
          "base_uri": "https://localhost:8080/",
          "height": 85
        },
        "outputId": "fe75c9b8-c739-4ecc-9e7e-6883f91d08aa"
      },
      "source": [
        "# wyciąganie indeksu wartości największej\n",
        "a = np.random.rand(5)\n",
        "print(a)\n",
        "print(np.argmax(a))\n",
        "\n",
        "# i najmniejszej...\n",
        "print(np.argmin(a))\n",
        "\n",
        "# sortowanie rosnąco\n",
        "print(np.argsort(a))"
      ],
      "execution_count": 17,
      "outputs": [
        {
          "output_type": "stream",
          "text": [
            "[0.89494939 0.63360678 0.70355967 0.66125823 0.49963987]\n",
            "0\n",
            "4\n",
            "[4 1 3 2 0]\n"
          ],
          "name": "stdout"
        }
      ]
    },
    {
      "cell_type": "code",
      "metadata": {
        "id": "NwFs79FpSkjp",
        "colab_type": "code",
        "colab": {
          "base_uri": "https://localhost:8080/",
          "height": 34
        },
        "outputId": "d571b975-edae-474f-8787-5277979fc819"
      },
      "source": [
        "# statystyki opiswoe\n",
        "print(np.max(a), np.min(a), np.median(a), np.mean(a), np.std(a))"
      ],
      "execution_count": 18,
      "outputs": [
        {
          "output_type": "stream",
          "text": [
            "0.8949493935875867 0.49963986670834004 0.6612582306077678 0.6786027885656654 0.12789206499852446\n"
          ],
          "name": "stdout"
        }
      ]
    },
    {
      "cell_type": "code",
      "metadata": {
        "id": "3jpTdgEqToeQ",
        "colab_type": "code",
        "colab": {}
      },
      "source": [
        ""
      ],
      "execution_count": null,
      "outputs": []
    }
  ]
}