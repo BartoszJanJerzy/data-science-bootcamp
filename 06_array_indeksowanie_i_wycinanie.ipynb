{
  "nbformat": 4,
  "nbformat_minor": 0,
  "metadata": {
    "colab": {
      "name": "6 - array: indeksowanie i wycinanie.ipynb",
      "provenance": [],
      "authorship_tag": "ABX9TyPSfHRkXVCJBYrtikIAwPFG",
      "include_colab_link": true
    },
    "kernelspec": {
      "name": "python3",
      "display_name": "Python 3"
    }
  },
  "cells": [
    {
      "cell_type": "markdown",
      "metadata": {
        "id": "view-in-github",
        "colab_type": "text"
      },
      "source": [
        "<a href=\"https://colab.research.google.com/github/BartoszJanJerzy/data-science-bootcamp/blob/master/06_array_indeksowanie_i_wycinanie.ipynb\" target=\"_parent\"><img src=\"https://colab.research.google.com/assets/colab-badge.svg\" alt=\"Open In Colab\"/></a>"
      ]
    },
    {
      "cell_type": "code",
      "metadata": {
        "id": "_luo4BzLASJY",
        "colab_type": "code",
        "colab": {}
      },
      "source": [
        "import numpy as np"
      ],
      "execution_count": null,
      "outputs": []
    },
    {
      "cell_type": "code",
      "metadata": {
        "id": "xct8QY9YAfPK",
        "colab_type": "code",
        "colab": {
          "base_uri": "https://localhost:8080/",
          "height": 51
        },
        "outputId": "6f6b77d2-e852-4068-8e1d-7debad2418b2"
      },
      "source": [
        "a = np.arange(20)\n",
        "a"
      ],
      "execution_count": null,
      "outputs": [
        {
          "output_type": "execute_result",
          "data": {
            "text/plain": [
              "array([ 0,  1,  2,  3,  4,  5,  6,  7,  8,  9, 10, 11, 12, 13, 14, 15, 16,\n",
              "       17, 18, 19])"
            ]
          },
          "metadata": {
            "tags": []
          },
          "execution_count": 2
        }
      ]
    },
    {
      "cell_type": "code",
      "metadata": {
        "id": "z3rUcZG-AlBC",
        "colab_type": "code",
        "colab": {
          "base_uri": "https://localhost:8080/",
          "height": 68
        },
        "outputId": "c04dbd47-515d-4e0d-b806-7c6b26ab5a08"
      },
      "source": [
        "# wycinanie tak samo jak listy\n",
        "\n",
        "# element z indeksem 2\n",
        "print(a[2])\n",
        "\n",
        "# element od indeksu 3 do końca\n",
        "print(a[3:])\n",
        "\n",
        "# indeksowanie od końca: ostatni element\n",
        "print(a[-1])\n"
      ],
      "execution_count": null,
      "outputs": [
        {
          "output_type": "stream",
          "text": [
            "2\n",
            "[ 3  4  5  6  7  8  9 10 11 12 13 14 15 16 17 18 19]\n",
            "19\n"
          ],
          "name": "stdout"
        }
      ]
    },
    {
      "cell_type": "code",
      "metadata": {
        "id": "_2Mvtg5qBGXy",
        "colab_type": "code",
        "colab": {
          "base_uri": "https://localhost:8080/",
          "height": 204
        },
        "outputId": "98f3719e-897e-4828-d40c-1da5540496aa"
      },
      "source": [
        "# wycinanie w tablicy 2D\n",
        "a = a.reshape(4,5)\n",
        "print(a)\n",
        "print()\n",
        "\n",
        "# cały pierwszy wiersz\n",
        "print('First row', a[0])\n",
        "\n",
        "# cała druga kolumna\n",
        "print('Second column', a[:,1])\n",
        "\n",
        "# konkretny element\n",
        "print('Second row, second column', a[1,1])\n",
        "\n",
        "# fragment tablicy\n",
        "print('Rows 2,3 and columns 2-4\\n', a[1:3, 1:4])"
      ],
      "execution_count": null,
      "outputs": [
        {
          "output_type": "stream",
          "text": [
            "[[ 0  1  2  3  4]\n",
            " [ 5  6  7  8  9]\n",
            " [10 11 12 13 14]\n",
            " [15 16 17 18 19]]\n",
            "\n",
            "First row [0 1 2 3 4]\n",
            "Second column [ 1  6 11 16]\n",
            "Second row, second column 6\n",
            "Rows 2,3 and columns 2-4\n",
            " [[ 6  7  8]\n",
            " [11 12 13]]\n"
          ],
          "name": "stdout"
        }
      ]
    },
    {
      "cell_type": "code",
      "metadata": {
        "id": "wIZRsjSRBOx4",
        "colab_type": "code",
        "colab": {}
      },
      "source": [
        ""
      ],
      "execution_count": null,
      "outputs": []
    }
  ]
}
